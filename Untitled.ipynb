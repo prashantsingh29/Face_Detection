{
 "cells": [
  {
   "cell_type": "code",
   "execution_count": null,
   "id": "d4e645c7",
   "metadata": {},
   "outputs": [],
   "source": [
    "import cv2\n",
    "import os\n",
    "\n",
    "img = cv2.imread('Resources/Face1.jpg') #Path of an image\n",
    "faceCascade = cv2.CascadeClassifier('haarcascades/haarcascade_frontalface_default.xml')\n",
    "faces = faceCascade.detectMultiScale(img,1.1,4)\n",
    "\n",
    "directory = os.getcwd()+r'\\Extract Faces From Image\\Faces'\n",
    "\n",
    "try:\n",
    "    os.mkdir(directory)\n",
    "except FileExistsError as fee:\n",
    "    print('Exception Occured',fee)\n",
    "os.chdir(directory)\n",
    "i=1\n",
    "for (x, y, w, h) in faces:\n",
    "    FaceImg = img[y:y+h,x:x+w]\n",
    "    # To save an image on disk\n",
    "    filename = 'Face'+str(i)+'.jpg'\n",
    "    cv2.imwrite(filename,FaceImg)\n",
    "    i+=1\n"
   ]
  }
 ],
 "metadata": {
  "kernelspec": {
   "display_name": "Python 3 (ipykernel)",
   "language": "python",
   "name": "python3"
  },
  "language_info": {
   "codemirror_mode": {
    "name": "ipython",
    "version": 3
   },
   "file_extension": ".py",
   "mimetype": "text/x-python",
   "name": "python",
   "nbconvert_exporter": "python",
   "pygments_lexer": "ipython3",
   "version": "3.9.13"
  }
 },
 "nbformat": 4,
 "nbformat_minor": 5
}
